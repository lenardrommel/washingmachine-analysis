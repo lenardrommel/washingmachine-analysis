{
 "cells": [
  {
   "cell_type": "code",
   "execution_count": 33,
   "metadata": {
    "collapsed": true,
    "ExecuteTime": {
     "end_time": "2023-12-28T16:49:49.140352Z",
     "start_time": "2023-12-28T16:49:49.136929Z"
    }
   },
   "outputs": [],
   "source": [
    "import numpy as np\n",
    "import matplotlib.pyplot as plt\n",
    "import pandas as pd\n",
    "import datetime"
   ]
  },
  {
   "cell_type": "code",
   "execution_count": 46,
   "outputs": [
    {
     "data": {
      "text/plain": "     weekday       date start_time end_time  duration(in h) pseudonym sex  \\\n0         Mo 2022-12-05      12:00    13:00             1.0        F1   f   \n1         Mo 2022-12-05      13:00    14:00             1.0        F2   f   \n2         Di 2022-12-06      12:00    13:00             1.0        M1   m   \n3         Di 2022-12-06      13:00    14:30             1.5        M2   m   \n4         Di 2022-12-06      14:30    15:30             1.0        M3   m   \n...      ...        ...        ...      ...             ...       ...  ..   \n2341      Mo 2023-12-04      10:30    11:30             1.0       M36   m   \n2342      Mo 2023-12-04      11:30    12:30             1.0        M7   m   \n2343      Mo 2023-12-04      15:00    16:00             1.0        M1   m   \n2344      Mo 2023-12-04      17:20    18:20             1.0       M44   m   \n2345      Mo 2023-12-04      17:20    18:20             1.0       M44   m   \n\n      machine  \n0           2  \n1           2  \n2           1  \n3           1  \n4           1  \n...       ...  \n2341        2  \n2342        2  \n2343        2  \n2344        1  \n2345        2  \n\n[2346 rows x 8 columns]",
      "text/html": "<div>\n<style scoped>\n    .dataframe tbody tr th:only-of-type {\n        vertical-align: middle;\n    }\n\n    .dataframe tbody tr th {\n        vertical-align: top;\n    }\n\n    .dataframe thead th {\n        text-align: right;\n    }\n</style>\n<table border=\"1\" class=\"dataframe\">\n  <thead>\n    <tr style=\"text-align: right;\">\n      <th></th>\n      <th>weekday</th>\n      <th>date</th>\n      <th>start_time</th>\n      <th>end_time</th>\n      <th>duration(in h)</th>\n      <th>pseudonym</th>\n      <th>sex</th>\n      <th>machine</th>\n    </tr>\n  </thead>\n  <tbody>\n    <tr>\n      <th>0</th>\n      <td>Mo</td>\n      <td>2022-12-05</td>\n      <td>12:00</td>\n      <td>13:00</td>\n      <td>1.0</td>\n      <td>F1</td>\n      <td>f</td>\n      <td>2</td>\n    </tr>\n    <tr>\n      <th>1</th>\n      <td>Mo</td>\n      <td>2022-12-05</td>\n      <td>13:00</td>\n      <td>14:00</td>\n      <td>1.0</td>\n      <td>F2</td>\n      <td>f</td>\n      <td>2</td>\n    </tr>\n    <tr>\n      <th>2</th>\n      <td>Di</td>\n      <td>2022-12-06</td>\n      <td>12:00</td>\n      <td>13:00</td>\n      <td>1.0</td>\n      <td>M1</td>\n      <td>m</td>\n      <td>1</td>\n    </tr>\n    <tr>\n      <th>3</th>\n      <td>Di</td>\n      <td>2022-12-06</td>\n      <td>13:00</td>\n      <td>14:30</td>\n      <td>1.5</td>\n      <td>M2</td>\n      <td>m</td>\n      <td>1</td>\n    </tr>\n    <tr>\n      <th>4</th>\n      <td>Di</td>\n      <td>2022-12-06</td>\n      <td>14:30</td>\n      <td>15:30</td>\n      <td>1.0</td>\n      <td>M3</td>\n      <td>m</td>\n      <td>1</td>\n    </tr>\n    <tr>\n      <th>...</th>\n      <td>...</td>\n      <td>...</td>\n      <td>...</td>\n      <td>...</td>\n      <td>...</td>\n      <td>...</td>\n      <td>...</td>\n      <td>...</td>\n    </tr>\n    <tr>\n      <th>2341</th>\n      <td>Mo</td>\n      <td>2023-12-04</td>\n      <td>10:30</td>\n      <td>11:30</td>\n      <td>1.0</td>\n      <td>M36</td>\n      <td>m</td>\n      <td>2</td>\n    </tr>\n    <tr>\n      <th>2342</th>\n      <td>Mo</td>\n      <td>2023-12-04</td>\n      <td>11:30</td>\n      <td>12:30</td>\n      <td>1.0</td>\n      <td>M7</td>\n      <td>m</td>\n      <td>2</td>\n    </tr>\n    <tr>\n      <th>2343</th>\n      <td>Mo</td>\n      <td>2023-12-04</td>\n      <td>15:00</td>\n      <td>16:00</td>\n      <td>1.0</td>\n      <td>M1</td>\n      <td>m</td>\n      <td>2</td>\n    </tr>\n    <tr>\n      <th>2344</th>\n      <td>Mo</td>\n      <td>2023-12-04</td>\n      <td>17:20</td>\n      <td>18:20</td>\n      <td>1.0</td>\n      <td>M44</td>\n      <td>m</td>\n      <td>1</td>\n    </tr>\n    <tr>\n      <th>2345</th>\n      <td>Mo</td>\n      <td>2023-12-04</td>\n      <td>17:20</td>\n      <td>18:20</td>\n      <td>1.0</td>\n      <td>M44</td>\n      <td>m</td>\n      <td>2</td>\n    </tr>\n  </tbody>\n</table>\n<p>2346 rows × 8 columns</p>\n</div>"
     },
     "execution_count": 46,
     "metadata": {},
     "output_type": "execute_result"
    }
   ],
   "source": [
    "data = pd.read_csv('anonymized.csv')\n",
    "# date_format = \"%a,%d,%b,%Y,%H:%M\"\n",
    "df = data\n",
    "df.insert(2, 'date', '')\n",
    "df['date'] = pd.to_datetime(df['day'].astype(str) + ' ' + df['month'] + ' ' + df['year'].astype(str), format='%d %B %Y')\n",
    "\n",
    "# Drop the original 'day', 'month', and 'year' columns if needed\n",
    "df = df.drop(columns=['day', 'month', 'year'])\n",
    "df"
   ],
   "metadata": {
    "collapsed": false,
    "ExecuteTime": {
     "end_time": "2023-12-28T16:57:14.599754Z",
     "start_time": "2023-12-28T16:57:14.571610Z"
    }
   }
  },
  {
   "cell_type": "code",
   "execution_count": 45,
   "outputs": [
    {
     "data": {
      "text/plain": "     weekday       date start_time end_time  duration(in h) pseudonym sex  \\\n0         Mo 2022-12-05      12:00    13:00             1.0        F1   f   \n1         Mo 2022-12-05      13:00    14:00             1.0        F2   f   \n2         Di 2022-12-06      12:00    13:00             1.0        M1   m   \n3         Di 2022-12-06      13:00    14:30             1.5        M2   m   \n4         Di 2022-12-06      14:30    15:30             1.0        M3   m   \n...      ...        ...        ...      ...             ...       ...  ..   \n2341      Mo 2023-12-04      10:30    11:30             1.0       M36   m   \n2342      Mo 2023-12-04      11:30    12:30             1.0        M7   m   \n2343      Mo 2023-12-04      15:00    16:00             1.0        M1   m   \n2344      Mo 2023-12-04      17:20    18:20             1.0       M44   m   \n2345      Mo 2023-12-04      17:20    18:20             1.0       M44   m   \n\n      machine  \n0           2  \n1           2  \n2           1  \n3           1  \n4           1  \n...       ...  \n2341        2  \n2342        2  \n2343        2  \n2344        1  \n2345        2  \n\n[2346 rows x 8 columns]",
      "text/html": "<div>\n<style scoped>\n    .dataframe tbody tr th:only-of-type {\n        vertical-align: middle;\n    }\n\n    .dataframe tbody tr th {\n        vertical-align: top;\n    }\n\n    .dataframe thead th {\n        text-align: right;\n    }\n</style>\n<table border=\"1\" class=\"dataframe\">\n  <thead>\n    <tr style=\"text-align: right;\">\n      <th></th>\n      <th>weekday</th>\n      <th>date</th>\n      <th>start_time</th>\n      <th>end_time</th>\n      <th>duration(in h)</th>\n      <th>pseudonym</th>\n      <th>sex</th>\n      <th>machine</th>\n    </tr>\n  </thead>\n  <tbody>\n    <tr>\n      <th>0</th>\n      <td>Mo</td>\n      <td>2022-12-05</td>\n      <td>12:00</td>\n      <td>13:00</td>\n      <td>1.0</td>\n      <td>F1</td>\n      <td>f</td>\n      <td>2</td>\n    </tr>\n    <tr>\n      <th>1</th>\n      <td>Mo</td>\n      <td>2022-12-05</td>\n      <td>13:00</td>\n      <td>14:00</td>\n      <td>1.0</td>\n      <td>F2</td>\n      <td>f</td>\n      <td>2</td>\n    </tr>\n    <tr>\n      <th>2</th>\n      <td>Di</td>\n      <td>2022-12-06</td>\n      <td>12:00</td>\n      <td>13:00</td>\n      <td>1.0</td>\n      <td>M1</td>\n      <td>m</td>\n      <td>1</td>\n    </tr>\n    <tr>\n      <th>3</th>\n      <td>Di</td>\n      <td>2022-12-06</td>\n      <td>13:00</td>\n      <td>14:30</td>\n      <td>1.5</td>\n      <td>M2</td>\n      <td>m</td>\n      <td>1</td>\n    </tr>\n    <tr>\n      <th>4</th>\n      <td>Di</td>\n      <td>2022-12-06</td>\n      <td>14:30</td>\n      <td>15:30</td>\n      <td>1.0</td>\n      <td>M3</td>\n      <td>m</td>\n      <td>1</td>\n    </tr>\n    <tr>\n      <th>...</th>\n      <td>...</td>\n      <td>...</td>\n      <td>...</td>\n      <td>...</td>\n      <td>...</td>\n      <td>...</td>\n      <td>...</td>\n      <td>...</td>\n    </tr>\n    <tr>\n      <th>2341</th>\n      <td>Mo</td>\n      <td>2023-12-04</td>\n      <td>10:30</td>\n      <td>11:30</td>\n      <td>1.0</td>\n      <td>M36</td>\n      <td>m</td>\n      <td>2</td>\n    </tr>\n    <tr>\n      <th>2342</th>\n      <td>Mo</td>\n      <td>2023-12-04</td>\n      <td>11:30</td>\n      <td>12:30</td>\n      <td>1.0</td>\n      <td>M7</td>\n      <td>m</td>\n      <td>2</td>\n    </tr>\n    <tr>\n      <th>2343</th>\n      <td>Mo</td>\n      <td>2023-12-04</td>\n      <td>15:00</td>\n      <td>16:00</td>\n      <td>1.0</td>\n      <td>M1</td>\n      <td>m</td>\n      <td>2</td>\n    </tr>\n    <tr>\n      <th>2344</th>\n      <td>Mo</td>\n      <td>2023-12-04</td>\n      <td>17:20</td>\n      <td>18:20</td>\n      <td>1.0</td>\n      <td>M44</td>\n      <td>m</td>\n      <td>1</td>\n    </tr>\n    <tr>\n      <th>2345</th>\n      <td>Mo</td>\n      <td>2023-12-04</td>\n      <td>17:20</td>\n      <td>18:20</td>\n      <td>1.0</td>\n      <td>M44</td>\n      <td>m</td>\n      <td>2</td>\n    </tr>\n  </tbody>\n</table>\n<p>2346 rows × 8 columns</p>\n</div>"
     },
     "execution_count": 45,
     "metadata": {},
     "output_type": "execute_result"
    }
   ],
   "source": [],
   "metadata": {
    "collapsed": false,
    "ExecuteTime": {
     "end_time": "2023-12-28T16:56:45.838613Z",
     "start_time": "2023-12-28T16:56:45.809292Z"
    }
   }
  },
  {
   "cell_type": "code",
   "execution_count": 32,
   "outputs": [
    {
     "data": {
      "text/plain": "     weekday start_time end_time  duration(in h) pseudonym sex  machine\n0         Mo      12:00    13:00             1.0        F1   f        2\n1         Mo      13:00    14:00             1.0        F2   f        2\n2         Di      12:00    13:00             1.0        M1   m        1\n3         Di      13:00    14:30             1.5        M2   m        1\n4         Di      14:30    15:30             1.0        M3   m        1\n...      ...        ...      ...             ...       ...  ..      ...\n2341      Mo      10:30    11:30             1.0       M36   m        2\n2342      Mo      11:30    12:30             1.0        M7   m        2\n2343      Mo      15:00    16:00             1.0        M1   m        2\n2344      Mo      17:20    18:20             1.0       M44   m        1\n2345      Mo      17:20    18:20             1.0       M44   m        2\n\n[2346 rows x 7 columns]",
      "text/html": "<div>\n<style scoped>\n    .dataframe tbody tr th:only-of-type {\n        vertical-align: middle;\n    }\n\n    .dataframe tbody tr th {\n        vertical-align: top;\n    }\n\n    .dataframe thead th {\n        text-align: right;\n    }\n</style>\n<table border=\"1\" class=\"dataframe\">\n  <thead>\n    <tr style=\"text-align: right;\">\n      <th></th>\n      <th>weekday</th>\n      <th>start_time</th>\n      <th>end_time</th>\n      <th>duration(in h)</th>\n      <th>pseudonym</th>\n      <th>sex</th>\n      <th>machine</th>\n    </tr>\n  </thead>\n  <tbody>\n    <tr>\n      <th>0</th>\n      <td>Mo</td>\n      <td>12:00</td>\n      <td>13:00</td>\n      <td>1.0</td>\n      <td>F1</td>\n      <td>f</td>\n      <td>2</td>\n    </tr>\n    <tr>\n      <th>1</th>\n      <td>Mo</td>\n      <td>13:00</td>\n      <td>14:00</td>\n      <td>1.0</td>\n      <td>F2</td>\n      <td>f</td>\n      <td>2</td>\n    </tr>\n    <tr>\n      <th>2</th>\n      <td>Di</td>\n      <td>12:00</td>\n      <td>13:00</td>\n      <td>1.0</td>\n      <td>M1</td>\n      <td>m</td>\n      <td>1</td>\n    </tr>\n    <tr>\n      <th>3</th>\n      <td>Di</td>\n      <td>13:00</td>\n      <td>14:30</td>\n      <td>1.5</td>\n      <td>M2</td>\n      <td>m</td>\n      <td>1</td>\n    </tr>\n    <tr>\n      <th>4</th>\n      <td>Di</td>\n      <td>14:30</td>\n      <td>15:30</td>\n      <td>1.0</td>\n      <td>M3</td>\n      <td>m</td>\n      <td>1</td>\n    </tr>\n    <tr>\n      <th>...</th>\n      <td>...</td>\n      <td>...</td>\n      <td>...</td>\n      <td>...</td>\n      <td>...</td>\n      <td>...</td>\n      <td>...</td>\n    </tr>\n    <tr>\n      <th>2341</th>\n      <td>Mo</td>\n      <td>10:30</td>\n      <td>11:30</td>\n      <td>1.0</td>\n      <td>M36</td>\n      <td>m</td>\n      <td>2</td>\n    </tr>\n    <tr>\n      <th>2342</th>\n      <td>Mo</td>\n      <td>11:30</td>\n      <td>12:30</td>\n      <td>1.0</td>\n      <td>M7</td>\n      <td>m</td>\n      <td>2</td>\n    </tr>\n    <tr>\n      <th>2343</th>\n      <td>Mo</td>\n      <td>15:00</td>\n      <td>16:00</td>\n      <td>1.0</td>\n      <td>M1</td>\n      <td>m</td>\n      <td>2</td>\n    </tr>\n    <tr>\n      <th>2344</th>\n      <td>Mo</td>\n      <td>17:20</td>\n      <td>18:20</td>\n      <td>1.0</td>\n      <td>M44</td>\n      <td>m</td>\n      <td>1</td>\n    </tr>\n    <tr>\n      <th>2345</th>\n      <td>Mo</td>\n      <td>17:20</td>\n      <td>18:20</td>\n      <td>1.0</td>\n      <td>M44</td>\n      <td>m</td>\n      <td>2</td>\n    </tr>\n  </tbody>\n</table>\n<p>2346 rows × 7 columns</p>\n</div>"
     },
     "execution_count": 32,
     "metadata": {},
     "output_type": "execute_result"
    }
   ],
   "source": [],
   "metadata": {
    "collapsed": false,
    "ExecuteTime": {
     "end_time": "2023-12-28T16:49:40.460081Z",
     "start_time": "2023-12-28T16:49:40.455507Z"
    }
   }
  },
  {
   "cell_type": "code",
   "execution_count": null,
   "outputs": [],
   "source": [],
   "metadata": {
    "collapsed": false
   }
  }
 ],
 "metadata": {
  "kernelspec": {
   "display_name": "Python 3",
   "language": "python",
   "name": "python3"
  },
  "language_info": {
   "codemirror_mode": {
    "name": "ipython",
    "version": 2
   },
   "file_extension": ".py",
   "mimetype": "text/x-python",
   "name": "python",
   "nbconvert_exporter": "python",
   "pygments_lexer": "ipython2",
   "version": "2.7.6"
  }
 },
 "nbformat": 4,
 "nbformat_minor": 0
}
