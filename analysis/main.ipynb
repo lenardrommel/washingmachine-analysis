{
 "cells": [
  {
   "cell_type": "code",
   "execution_count": 119,
   "metadata": {
    "collapsed": true,
    "pycharm": {
     "name": "#%%\n"
    }
   },
   "outputs": [],
   "source": [
    "import numpy as np\n",
    "import pandas as pd                 # library for dataframes\n",
    "import datetime                     # library for dates\n",
    "import matplotlib.pyplot as plt     # library for plotting\n",
    "import matplotlib.dates as mdates\n",
    "from matplotlib.dates import DateFormatter\n",
    "import matplotlib.font_manager as font_manager\n",
    "import seaborn as sns\n",
    "from helper_function import preprocessing\n",
    "from analyse_average_washing_time import *\n",
    "from tueplots import bundles\n",
    "from tueplots.constants.color import rgb\n",
    "from scipy.stats import ttest_ind\n",
    "from matplotlib.lines import Line2D"
   ]
  },
  {
   "cell_type": "code",
   "execution_count": 120,
   "outputs": [],
   "source": [
    "# Setting parameters for the plotting libraries\n",
    "## Mostly make up, please ignore\n",
    "plt.rcParams['font.family'] = 'sans-serif'\n",
    "plt.rcParams['font.sans-serif'] = 'Microsoft Sans Serif'\n",
    "plt.rc('axes', labelsize=18)            # fontsize of the x and y labels\n",
    "plt.rc('xtick', labelsize=17)           # fontsize of the tick labels\n",
    "plt.rc('ytick', labelsize=17)           # fontsize of the tick labels\n",
    "plt.rc('legend', fontsize=17)           # legend fontsize\n",
    "plt.rc('font', size=17)                 # controls default text sizes\n",
    "plt.rc('font', family='serif', serif='Times New Roman')\n",
    "sns.set_style('whitegrid')\n",
    "sns.set_style({'font.family':'serif', 'font.serif':'Times New Roman'})\n",
    "\n",
    "# Setting path where data is located\n",
    "data_path = '../data/anonymized.csv'\n",
    "# Setting path for saving plots\n",
    "plot_path = '../plots/'"
   ],
   "metadata": {
    "collapsed": false,
    "pycharm": {
     "name": "#%%\n"
    }
   }
  },
  {
   "cell_type": "code",
   "execution_count": 121,
   "outputs": [],
   "source": [
    "# Setting useful parameter\n",
    "date_format = '%d.%m.%Y'\n",
    "date_form = DateFormatter(date_format)\n",
    "# Change this for lower or higher resolution\n",
    "resolution = 600\n",
    "custom_order = ['Mo', 'Di', 'Mi', 'Do', 'Fr', 'Sa', 'So']\n",
    "custom_order_eng = ['Mon', 'Tue', 'Wed', 'Thu', 'Fri', 'Sat', 'Sun']\n",
    "day_mapping = {'Mo': 'Mon', 'Di': 'Tue', 'Mi': 'Wed', 'Do': 'Thu', 'Fr': 'Fri', 'Sa': 'Sat', 'So': 'Sun'}"
   ],
   "metadata": {
    "collapsed": false,
    "pycharm": {
     "name": "#%%\n"
    }
   }
  },
  {
   "cell_type": "code",
   "execution_count": 122,
   "outputs": [
    {
     "data": {
      "text/plain": "     weekday       date start_time end_time  duration(in h) pseudonym sex   \n0         Mo 2022-12-05      12:00    13:00             1.0        F1   f  \\\n1         Mo 2022-12-05      13:00    14:00             1.0        F2   f   \n2         Di 2022-12-06      12:00    13:00             1.0        M1   m   \n3         Di 2022-12-06      13:00    14:30             1.5        M2   m   \n4         Di 2022-12-06      14:30    15:30             1.0        M3   m   \n...      ...        ...        ...      ...             ...       ...  ..   \n2341      Mo 2023-12-04      10:30    11:30             1.0       M36   m   \n2342      Mo 2023-12-04      11:30    12:30             1.0        M7   m   \n2343      Mo 2023-12-04      15:00    16:00             1.0        M1   m   \n2344      Mo 2023-12-04      17:20    18:20             1.0       M44   m   \n2345      Mo 2023-12-04      17:20    18:20             1.0       M44   m   \n\n      machine  \n0           2  \n1           2  \n2           1  \n3           1  \n4           1  \n...       ...  \n2341        2  \n2342        2  \n2343        2  \n2344        1  \n2345        2  \n\n[2242 rows x 8 columns]",
      "text/html": "<div>\n<style scoped>\n    .dataframe tbody tr th:only-of-type {\n        vertical-align: middle;\n    }\n\n    .dataframe tbody tr th {\n        vertical-align: top;\n    }\n\n    .dataframe thead th {\n        text-align: right;\n    }\n</style>\n<table border=\"1\" class=\"dataframe\">\n  <thead>\n    <tr style=\"text-align: right;\">\n      <th></th>\n      <th>weekday</th>\n      <th>date</th>\n      <th>start_time</th>\n      <th>end_time</th>\n      <th>duration(in h)</th>\n      <th>pseudonym</th>\n      <th>sex</th>\n      <th>machine</th>\n    </tr>\n  </thead>\n  <tbody>\n    <tr>\n      <th>0</th>\n      <td>Mo</td>\n      <td>2022-12-05</td>\n      <td>12:00</td>\n      <td>13:00</td>\n      <td>1.0</td>\n      <td>F1</td>\n      <td>f</td>\n      <td>2</td>\n    </tr>\n    <tr>\n      <th>1</th>\n      <td>Mo</td>\n      <td>2022-12-05</td>\n      <td>13:00</td>\n      <td>14:00</td>\n      <td>1.0</td>\n      <td>F2</td>\n      <td>f</td>\n      <td>2</td>\n    </tr>\n    <tr>\n      <th>2</th>\n      <td>Di</td>\n      <td>2022-12-06</td>\n      <td>12:00</td>\n      <td>13:00</td>\n      <td>1.0</td>\n      <td>M1</td>\n      <td>m</td>\n      <td>1</td>\n    </tr>\n    <tr>\n      <th>3</th>\n      <td>Di</td>\n      <td>2022-12-06</td>\n      <td>13:00</td>\n      <td>14:30</td>\n      <td>1.5</td>\n      <td>M2</td>\n      <td>m</td>\n      <td>1</td>\n    </tr>\n    <tr>\n      <th>4</th>\n      <td>Di</td>\n      <td>2022-12-06</td>\n      <td>14:30</td>\n      <td>15:30</td>\n      <td>1.0</td>\n      <td>M3</td>\n      <td>m</td>\n      <td>1</td>\n    </tr>\n    <tr>\n      <th>...</th>\n      <td>...</td>\n      <td>...</td>\n      <td>...</td>\n      <td>...</td>\n      <td>...</td>\n      <td>...</td>\n      <td>...</td>\n      <td>...</td>\n    </tr>\n    <tr>\n      <th>2341</th>\n      <td>Mo</td>\n      <td>2023-12-04</td>\n      <td>10:30</td>\n      <td>11:30</td>\n      <td>1.0</td>\n      <td>M36</td>\n      <td>m</td>\n      <td>2</td>\n    </tr>\n    <tr>\n      <th>2342</th>\n      <td>Mo</td>\n      <td>2023-12-04</td>\n      <td>11:30</td>\n      <td>12:30</td>\n      <td>1.0</td>\n      <td>M7</td>\n      <td>m</td>\n      <td>2</td>\n    </tr>\n    <tr>\n      <th>2343</th>\n      <td>Mo</td>\n      <td>2023-12-04</td>\n      <td>15:00</td>\n      <td>16:00</td>\n      <td>1.0</td>\n      <td>M1</td>\n      <td>m</td>\n      <td>2</td>\n    </tr>\n    <tr>\n      <th>2344</th>\n      <td>Mo</td>\n      <td>2023-12-04</td>\n      <td>17:20</td>\n      <td>18:20</td>\n      <td>1.0</td>\n      <td>M44</td>\n      <td>m</td>\n      <td>1</td>\n    </tr>\n    <tr>\n      <th>2345</th>\n      <td>Mo</td>\n      <td>2023-12-04</td>\n      <td>17:20</td>\n      <td>18:20</td>\n      <td>1.0</td>\n      <td>M44</td>\n      <td>m</td>\n      <td>2</td>\n    </tr>\n  </tbody>\n</table>\n<p>2242 rows × 8 columns</p>\n</div>"
     },
     "execution_count": 122,
     "metadata": {},
     "output_type": "execute_result"
    }
   ],
   "source": [
    "# Loading dataset and preprocessing\n",
    "original_data = pd.read_csv(data_path)\n",
    "# Preprocessing the data\n",
    "data = preprocessing(data_frame=original_data, date_format=None)\n",
    "data"
   ],
   "metadata": {
    "collapsed": false,
    "pycharm": {
     "name": "#%%\n"
    }
   }
  },
  {
   "cell_type": "code",
   "execution_count": 123,
   "outputs": [],
   "source": [
    "def sum_usage_per_day(df):\n",
    "    '''\n",
    "    Summing up the usage time per day per data point.\n",
    "    :param df (pd.DataFrame):\n",
    "    :return:\n",
    "    '''\n",
    "    daily_usage = df.groupby('date')['duration(in h)'].sum()\n",
    "    return daily_usage"
   ],
   "metadata": {
    "collapsed": false,
    "pycharm": {
     "name": "#%%\n"
    }
   }
  },
  {
   "cell_type": "code",
   "execution_count": 124,
   "outputs": [],
   "source": [
    "daily_usage = sum_usage_per_day(data.copy())\n",
    "# Calculate moving average with a window size of 7 days\n",
    "moving_average = daily_usage.rolling(window=7).mean()\n",
    "average = daily_usage.mean()\n",
    "deviation = abs(average - daily_usage).rolling(window=7).mean()"
   ],
   "metadata": {
    "collapsed": false,
    "pycharm": {
     "name": "#%%\n"
    }
   }
  },
  {
   "cell_type": "code",
   "execution_count": 125,
   "outputs": [],
   "source": [
    "# Setting start and end date\n",
    "start_date = data['date'][0]\n",
    "end_date = data['date'][2345]\n",
    "# Setting dates of the semester breaks\n",
    "xmas_start = datetime.datetime(2022, 12, 23)\n",
    "xmas_end = datetime.datetime(2023, 1, 7)\n",
    "ss_start = datetime.datetime(2023, 4, 17)\n",
    "ss_end = datetime.datetime(2023, 7, 29)\n",
    "easter_start = datetime.datetime(2023, 5, 29)\n",
    "easter_end = datetime.datetime(2023, 6, 3)\n",
    "ws_start = datetime.datetime(2023, 9, 16)\n",
    "ws_end = datetime.datetime(2023, 2, 11)"
   ],
   "metadata": {
    "collapsed": false,
    "pycharm": {
     "name": "#%%\n"
    }
   }
  },
  {
   "cell_type": "code",
   "execution_count": 126,
   "outputs": [],
   "source": [
    "# Defining the opacity for the mark of the semester breaks\n",
    "opacity = 0.2"
   ],
   "metadata": {
    "collapsed": false,
    "pycharm": {
     "name": "#%%\n"
    }
   }
  },
  {
   "cell_type": "code",
   "execution_count": null,
   "outputs": [
    {
     "name": "stderr",
     "output_type": "stream",
     "text": [
      "/var/folders/kd/3t0zj8gs1zz4f2qpq9dpm0xw0000gn/T/ipykernel_10645/1688127792.py:16: UserWarning: This figure was using constrained_layout, but that is incompatible with subplots_adjust and/or tight_layout; disabling constrained_layout.\n",
      "  fig.autofmt_xdate()\n"
     ]
    }
   ],
   "source": [
    "fig, ax = plt.subplots(figsize=(17, 10))\n",
    "# Plotting break times\n",
    "ax.axvspan(xmin=xmas_start, xmax=xmas_end, alpha=opacity, color=rgb.tue_lightblue, label='Midterm break')\n",
    "ax.axvspan(xmin=easter_start, xmax=easter_end, alpha=opacity, color=rgb.tue_lightblue)\n",
    "ax.axvspan(xmin=ws_end, xmax=ss_start, color=rgb.tue_lightgreen, alpha=opacity, label='Semester break')\n",
    "ax.axvspan(xmin=ss_end, xmax=ws_start, color=rgb.tue_lightgreen, alpha=opacity)\n",
    "#\n",
    "ax.xaxis.set_major_formatter(date_form)\n",
    "# making histogram\n",
    "n, bins, patches = ax.hist(data['date'], bins=300, range=(start_date, end_date), width=1.0)\n",
    "# Ensure ticks fall once every other week (interval=4)\n",
    "ax.xaxis.set_major_locator(mdates.WeekdayLocator(interval=4))\n",
    "# plot moving average and total average\n",
    "ax.plot(moving_average, label='Moving average')\n",
    "ax.axhline(y=average, color='blue', linestyle='--', label='Average')\n",
    "fig.autofmt_xdate()\n",
    "fig.legend()\n",
    "fig.savefig(f'{plot_path}data-for-year.png', dpi=resolution)"
   ],
   "metadata": {
    "collapsed": false,
    "pycharm": {
     "name": "#%%\n",
     "is_executing": true
    }
   }
  },
  {
   "cell_type": "code",
   "execution_count": null,
   "outputs": [],
   "source": [
    "occupancy_per_weekday = data.copy().groupby(['sex', 'weekday']).size()\n",
    "all_occupancy = data.copy().groupby(['weekday']).size()\n",
    "male_occupancy = occupancy_per_weekday.copy().loc['m'].reset_index(name='occurrences')\n",
    "female_occupancy = occupancy_per_weekday.copy().loc['f'].reset_index(name='occurrences')"
   ],
   "metadata": {
    "collapsed": false,
    "pycharm": {
     "name": "#%%\n",
     "is_executing": true
    }
   }
  },
  {
   "cell_type": "code",
   "execution_count": null,
   "outputs": [],
   "source": [
    "# Group data by 'sex' and 'weekday', count occurrences, and reshape the result\n",
    "absolute_values = data.groupby(['sex', 'weekday']).size().unstack(level=0).fillna(0).astype(int)\n",
    "\n",
    "# Reorder the DataFrame based on 'custom_order' and melt it for the desired structure\n",
    "absolute_values = absolute_values.loc[custom_order].reset_index().melt(id_vars='weekday', var_name='Gender', value_name='Count')\n",
    "\n",
    "# Set the 'weekday' column as a categorical with the custom order\n",
    "absolute_values['weekday'] = pd.Categorical(absolute_values['weekday'], categories=custom_order, ordered=True)\n",
    "absolute_values.rename(columns={'weekday': 'Day'}, inplace=True)\n",
    "\n",
    "absolute_values['Day'] = absolute_values['Day'].replace(day_mapping)\n",
    "absolute_values = absolute_values[absolute_values['Gender'] != 'u']\n",
    "absolute_values['Gender'] = absolute_values['Gender'].replace({'f': 'Females', 'm' : 'Males'})"
   ],
   "metadata": {
    "collapsed": false,
    "pycharm": {
     "name": "#%%\n",
     "is_executing": true
    }
   }
  },
  {
   "cell_type": "code",
   "execution_count": null,
   "outputs": [],
   "source": [
    "# Transform datasets to a probability distribution\n",
    "male_occupancy['occurrences'] /= male_occupancy['occurrences'].sum()\n",
    "female_occupancy['occurrences'] /= female_occupancy['occurrences'].sum()\n",
    "all_occupancy /= all_occupancy.sum()\n",
    "all_occupancy = all_occupancy.reset_index(name='occurrences')\n",
    "\n",
    "# Convert 'weekday' column to Categorical with custom order and sort by 'weekday'\n",
    "for df in [male_occupancy, female_occupancy, all_occupancy]:\n",
    "    df['weekday'] = pd.Categorical(df.weekday, categories=custom_order, ordered=True)\n",
    "    df.sort_values('weekday', inplace=True)\n",
    "\n",
    "# Preparing dataframe for English day representation\n",
    "df = pd.DataFrame({'Day': custom_order_eng, 'Males': list(male_occupancy['occurrences']),\n",
    "                   'Females': list(female_occupancy['occurrences']), 'All': list(all_occupancy['occurrences'])}, index=custom_order)\n",
    "\n",
    "# Melt the dataframe to create a \"gender\" column\n",
    "df_melted = pd.melt(df, id_vars=['Day'], value_vars=['Females', 'Males', 'All'], var_name='Gender', value_name='Percentage')\n",
    "df_melted.Percentage = df_melted.Percentage * 100"
   ],
   "metadata": {
    "collapsed": false,
    "pycharm": {
     "name": "#%%\n",
     "is_executing": true
    }
   }
  },
  {
   "cell_type": "code",
   "execution_count": null,
   "outputs": [],
   "source": [
    "fig, ax = plt.subplots(figsize=(16, 10))\n",
    "# Plotting using Seaborn\n",
    "ax = sns.barplot(x='Day', y='Percentage', hue='Gender', data=df_melted, palette={'Females': rgb.tue_red, 'Males': rgb.tue_blue, 'All': rgb.tue_green}, alpha=0.5)\n",
    "ax.axhline(y=100/7, color='blue', linestyle='--')\n",
    "ax.set_yticks([0.0, 2, 4, 6, 8, 10, 12, 14.3, 16])\n",
    "ax2 = ax.twinx()\n",
    "ax2.set_ylim([0, 400])\n",
    "ax2.set_yticks([0, 30, 50, 70, 90, 110, 130, 150, 170, 190])\n",
    "ax2 = sns.barplot(x='Day', y='Count', hue='Gender', data=absolute_values, alpha=0.5, palette={'Females': rgb.tue_red, 'Males': rgb.tue_blue})\n",
    "ax2.legend_.remove()\n",
    "ax2.set_ylabel('Absolute numbers (accumulated)')\n",
    "fig.savefig(f'{plot_path}Data_per_weekday.png', dpi=resolution)"
   ],
   "metadata": {
    "collapsed": false,
    "pycharm": {
     "name": "#%%\n",
     "is_executing": true
    }
   }
  },
  {
   "cell_type": "code",
   "execution_count": null,
   "outputs": [],
   "source": [
    "plt.rcParams.update(bundles.icml2022(column='full', nrows=1, ncols=2, usetex=False))\n",
    "plt.rcParams['axes.labelsize'] = 12\n",
    "plt.rcParams['xtick.labelsize'] = 10\n",
    "plt.rcParams['ytick.labelsize'] = 10\n",
    "plt.rcParams['legend.fontsize'] = 8\n",
    "plt.rcParams['font.family'] = 'Times New Roman'"
   ],
   "metadata": {
    "collapsed": false,
    "pycharm": {
     "name": "#%%\n",
     "is_executing": true
    }
   }
  },
  {
   "cell_type": "code",
   "execution_count": null,
   "outputs": [],
   "source": [
    "weekdays = ['Mo', 'Di', 'Mi', 'Do', 'Fr', 'Sa', 'So']\n",
    "weekdays_dict = {\n",
    "    'Mo': \"Monday\",\n",
    "    'Di': \"Tuesday\",\n",
    "    'Mi': \"Wednesday\",\n",
    "    'Do': \"Thursday\",\n",
    "    'Fr': \"Friday\",\n",
    "    'Sa': \"Saturday\",\n",
    "    'So': \"Sunday\"\n",
    "}\n",
    "\n",
    "weekdays_data_dict_female = {\n",
    "    'Mo': \"time_sum_monday_w\",\n",
    "    'Di': \"time_sum_tuesday_w\",\n",
    "    'Mi': \"time_sum_wednesday_w\",\n",
    "    'Do': \"time_sum_thursday_w\",\n",
    "    'Fr': \"time_sum_friday_w\",\n",
    "    'Sa': \"time_sum_saturday_w\",\n",
    "    'So': \"time_sum_sunday_w\"\n",
    "}\n",
    "\n",
    "weekdays_data_dict_male = {\n",
    "    'Mo': \"time_sum_monday_m\",\n",
    "    'Di': \"time_sum_tuesday_m\",\n",
    "    'Mi': \"time_sum_wednesday_m\",\n",
    "    'Do': \"time_sum_thursday_m\",\n",
    "    'Fr': \"time_sum_friday_m\",\n",
    "    'Sa': \"time_sum_saturday_m\",\n",
    "    'So': \"time_sum_sunday_m\"\n",
    "}"
   ],
   "metadata": {
    "collapsed": false,
    "pycharm": {
     "name": "#%%\n",
     "is_executing": true
    }
   }
  },
  {
   "cell_type": "code",
   "execution_count": null,
   "outputs": [],
   "source": [
    "data = data.drop_duplicates(subset=['pseudonym', 'date', 'start_time'])\n",
    "men_data = data.loc[data['sex'] == 'm']\n",
    "women_data = data.loc[data['sex'] == 'f']\n",
    "\n",
    "all_data_men = np.zeros(96, dtype=int)\n",
    "all_data_women = np.zeros(96, dtype=int)\n",
    "\n",
    "# Sum of all washing machine usages per day and in general\n",
    "for index_day, day in enumerate(weekdays):\n",
    "    woman_data_weekday = women_data.loc[women_data['weekday'] == day]\n",
    "    male_data_weekday = men_data.loc[men_data['weekday'] == day]\n",
    "\n",
    "    weekdays_data_dict_female[day] = np.zeros(96, dtype=int)\n",
    "    weekdays_data_dict_male[day] = np.zeros(96, dtype=int)\n",
    "\n",
    "    for time_i in woman_data_weekday['start_time']:\n",
    "        ind = int(int(time_i.split(':')[0]) * 4 + (int(time_i.split(':')[1]) / 15))\n",
    "        weekdays_data_dict_female[day][ind] += 1\n",
    "\n",
    "    for time_i in male_data_weekday['start_time']:\n",
    "        ind = int(int(time_i.split(':')[0]) * 4 + (int(time_i.split(':')[1]) / 15))\n",
    "        weekdays_data_dict_male[day][ind] += 1\n",
    "\n",
    "    all_data_men = all_data_men + weekdays_data_dict_male[day]\n",
    "    all_data_women = all_data_women + weekdays_data_dict_female[day]"
   ],
   "metadata": {
    "collapsed": false,
    "pycharm": {
     "name": "#%%\n",
     "is_executing": true
    }
   }
  },
  {
   "cell_type": "code",
   "execution_count": null,
   "outputs": [],
   "source": [
    "intervals = list(range(192))\n",
    "fig, ax = plt.subplots(nrows=7, figsize=(10, 25), sharex=False, dpi=300, zorder=4)\n",
    "zeroes_array = np.zeros(96, dtype=int)\n",
    "\n",
    "time_stamps = np.linspace(0, 192, 49)\n",
    "time_labels = [\"00:00\", \"\", \"02:00\", \"\", \"04:00\", \"\", \"06:00\", \"\", \"08:00\", \"\", \"10:00\", \"\", \"12:00\", \"\", \"14:00\", \"\", \"16:00\", \"\", \"18:00\", \"\", \"20:00\", \"\", \"22:00\", \"\", \"00:00\", \"\", \"02:00\", \"\", \"04:00\", \"\", \"06:00\", \"\", \"08:00\", \"\", \"10:00\", \"\", \"12:00\", \"\", \"14:00\", \"\", \"16:00\", \"\", \"18:00\", \"\", \"20:00\", \"\", \"22:00\", \"\", \"\"]\n",
    "\n",
    "ax[6].set_xlabel(\"Time\")\n",
    "ax[3].set_ylabel(\"Frequency\")\n",
    "plt.subplots_adjust(hspace=0.45, bottom=0.2)\n",
    "\n",
    "y_pos = [2, 4, 6, 8, 10, 12, 14]\n",
    "\n",
    "# Set x- and y-axis\n",
    "for subplot in ax:\n",
    "    subplot.set_xlim(0, 192)\n",
    "    subplot.set_ylim(0, 14)\n",
    "    subplot.set_xticks(time_stamps)\n",
    "    subplot.set_xticklabels(labels=time_labels, rotation=30)\n",
    "    subplot.set_yticks(np.arange(0, 13, step=2))\n",
    "    for yc in y_pos:\n",
    "        subplot.axhline(y=yc, color='grey', linewidth=0.6, zorder=2)\n",
    "    subplot.axvline(x=96, color='black', linewidth=1, zorder=4)\n",
    "\n",
    "# Creates the plots for all weekdays\n",
    "for index, day in enumerate(weekdays_data_dict_female):\n",
    "\n",
    "    ax[index].bar(intervals, np.concatenate((zeroes_array, weekdays_data_dict_male[day]), axis=0), label='Set1', width=0.9, color=rgb.tue_blue, align='edge', zorder=3, alpha=0.5)\n",
    "    ax[index].bar(intervals, np.concatenate((weekdays_data_dict_female[day], zeroes_array), axis=0), label='Set1', width=0.9, color=rgb.tue_red, align='edge', zorder=3, alpha=0.5)\n",
    "\n",
    "    ax[index].errorbar(x=np.round(np.average(np.arange(96), weights=weekdays_data_dict_male[day]))+96, y=np.average(weekdays_data_dict_male[day]), xerr=np.std(weekdays_data_dict_male[day]), linewidth=2, capsize=6, zorder=4, color=rgb.tue_blue, ecolor=rgb.tue_blue)\n",
    "    ax[index].errorbar(x=np.round(np.average(np.arange(96), weights=weekdays_data_dict_female[day])), y=np.average(weekdays_data_dict_female[day]), xerr=np.std(weekdays_data_dict_female[day]), linewidth=2, capsize=6, zorder=4, color=rgb.tue_red, ecolor=rgb.tue_red)\n",
    "\n",
    "    ax[index].axvline(x=np.round(np.average(np.arange(96), weights=weekdays_data_dict_male[day]))+96, color=rgb.tue_blue, linewidth=1, zorder=4, linestyle='dashed')\n",
    "    ax[index].axvline(x=np.round(np.average(np.arange(96), weights=weekdays_data_dict_female[day])), color=rgb.tue_red, linewidth=1, zorder=4, linestyle='dashed')\n",
    "\n",
    "    max_times_woman = np.flatnonzero(weekdays_data_dict_female[day] == np.max(weekdays_data_dict_female[day])).tolist()\n",
    "    for index_times, times in enumerate(max_times_woman):\n",
    "        max_times_woman[index_times] = f\"{3*times // 12:02d}:{(3*times % 12) * 5:02d}\"\n",
    "\n",
    "    if len(max_times_woman) == 1:\n",
    "        plural_w = \"Time\"\n",
    "    else:\n",
    "        plural_w = \"Times\"\n",
    "\n",
    "    max_times_man = np.flatnonzero(weekdays_data_dict_male[day] == np.max(weekdays_data_dict_male[day])).tolist()\n",
    "    for index_times, times in enumerate(max_times_man):\n",
    "        max_times_man[index_times] = f\"{3*times // 12:02d}:{(3*times % 12) * 5:02d}\"\n",
    "\n",
    "    if len(max_times_man) == 1:\n",
    "        plural_m = \"Time\"\n",
    "    else:\n",
    "        plural_m = \"Times\"\n",
    "\n",
    "    custom_lines = [Line2D([0], [0], color=rgb.tue_red, lw=2, alpha=0.5),\n",
    "                Line2D([0], [0], color=rgb.tue_red, lw=2, linestyle='dashed'),\n",
    "                Line2D([0], [0], color=rgb.tue_red, lw=2),\n",
    "                Line2D([0], [0], color=rgb.tue_blue, lw=2, alpha=0.5),\n",
    "                Line2D([0], [0], color=rgb.tue_blue, lw=2, linestyle='dashed'),\n",
    "                Line2D([0], [0], color=rgb.tue_blue, lw=2)]\n",
    "    ax[0].legend(custom_lines, ['Female Students', 'Female Average', 'Female Std.', 'Male Students', 'Male Average', 'Male Std.'], prop={'size': 7}, loc='upper left')\n",
    "    ax[index].set_title(f\"{weekdays_dict[day]}\")\n",
    "\n",
    "fig.savefig(f'{plot_path}daily_distribution.png')"
   ],
   "metadata": {
    "collapsed": false,
    "pycharm": {
     "name": "#%%\n",
     "is_executing": true
    }
   }
  },
  {
   "cell_type": "code",
   "execution_count": null,
   "outputs": [],
   "source": [
    "# Independent Samples t-Test\n",
    "data_men = all_data_men.tolist()\n",
    "data_women = all_data_women.tolist()\n",
    "result = ttest_ind(all_data_men, all_data_women)\n",
    "print(result.pvalue)"
   ],
   "metadata": {
    "collapsed": false,
    "pycharm": {
     "name": "#%%\n",
     "is_executing": true
    }
   }
  },
  {
   "cell_type": "code",
   "execution_count": null,
   "outputs": [],
   "source": [
    "fig, ax = plt.subplots(nrows=1, figsize=(10, 3), sharex=False, dpi=300, zorder=5)\n",
    "\n",
    "y_pos = [5, 10, 15, 20, 25, 30, 35, 40, 45, 50]\n",
    "\n",
    "ax.set_xlim(0, 192)\n",
    "ax.set_ylim(0, 50)\n",
    "ax.set_xticks(time_stamps)\n",
    "ax.set_xticklabels(labels=time_labels, rotation=30)\n",
    "ax.set_yticks(np.arange(0, 50, step=10))\n",
    "for yc in y_pos:\n",
    "    ax.axhline(y=yc, color='grey', linewidth=0.6, zorder=2, alpha=0.2)\n",
    "ax.axvline(x=96, color='black', linewidth=1, zorder=4)\n",
    "\n",
    "ax.set_xlabel(\"Time\")\n",
    "ax.set_ylabel(\"Frequency\")\n",
    "\n",
    "ax.bar(intervals, np.concatenate((zeroes_array, all_data_men), axis=0), label='Set1', width=0.9, color=rgb.tue_blue, align='edge', zorder=3, alpha=0.5)\n",
    "ax.bar(intervals, np.concatenate((all_data_women, zeroes_array), axis=0), label='Set1', width=0.9, color=rgb.tue_red, align='edge', zorder=3, alpha=0.5)\n",
    "\n",
    "max_times_woman_all = np.flatnonzero(all_data_women == np.max(all_data_women)).tolist()\n",
    "for index_times, times in enumerate(max_times_woman_all):\n",
    "    max_times_woman_all[index_times] = f\"{3*times // 12:02d}:{(3*times % 12) * 5:02d}\"\n",
    "\n",
    "max_times_man_all = np.flatnonzero(all_data_men == np.max(all_data_men)).tolist()\n",
    "for index_times, times in enumerate(max_times_man_all):\n",
    "    max_times_man_all[index_times] = f\"{3*times // 12:02d}:{(3*times % 12) * 5:02d}\"\n",
    "\n",
    "men_average = np.round(np.average(np.arange(96), weights=all_data_men))\n",
    "women_average = np.round(np.average(np.arange(96), weights=all_data_women))\n",
    "\n",
    "\n",
    "\n",
    "ax.axvline(x=women_average, color=rgb.tue_red, linewidth=1, zorder=4, linestyle='dashed')\n",
    "ax.errorbar(x=women_average, y=np.average(all_data_women), xerr=np.std(all_data_women), linewidth=1, capsize=6, zorder=4, color=rgb.tue_red, ecolor=rgb.tue_red)\n",
    "ax.axvline(x=men_average+96, color=rgb.tue_blue, linewidth=1, zorder=4, linestyle='dashed')\n",
    "ax.errorbar(x=men_average+96, y=np.average(all_data_men), xerr=np.std(all_data_men), linewidth=1, capsize=6, zorder=4, color=rgb.tue_blue, ecolor=rgb.tue_blue)\n",
    "\n",
    "custom_lines = [Line2D([0], [0], color=rgb.tue_red, lw=2, alpha=0.5),\n",
    "                Line2D([0], [0], color=rgb.tue_red, lw=2, linestyle='dashed'),\n",
    "                Line2D([0], [0], color=rgb.tue_red, lw=2),\n",
    "                Line2D([0], [0], color=rgb.tue_blue, lw=2, alpha=0.5),\n",
    "                Line2D([0], [0], color=rgb.tue_blue, lw=2, linestyle='dashed'),\n",
    "                Line2D([0], [0], color=rgb.tue_blue, lw=2)]\n",
    "ax.legend(custom_lines, ['Female Students', 'Female Average', 'Female Std.', 'Male Students', 'Male Average', 'Male Std.'], prop={'size': 10}, loc='upper left')\n",
    "\n",
    "fig.savefig(f'{plot_path}averaged_distribution.png')"
   ],
   "metadata": {
    "collapsed": false,
    "pycharm": {
     "name": "#%%\n",
     "is_executing": true
    }
   }
  },
  {
   "cell_type": "code",
   "execution_count": null,
   "outputs": [],
   "source": [],
   "metadata": {
    "collapsed": false,
    "pycharm": {
     "name": "#%%\n",
     "is_executing": true
    }
   }
  },
  {
   "cell_type": "code",
   "execution_count": null,
   "outputs": [],
   "source": [
    "# get general overview\n",
    "print_number_of_individual_females_males_and_undefined()\n",
    "# process data in df\n",
    "df_individual_females, df_individual_males = create_data_for_individuals()\n",
    "# remove cleaning lady\n",
    "df_individual_females = df_individual_females.drop('Putzfrau')\n",
    "# remove outliers\n",
    "threshold = 10\n",
    "df_individual_females = df_individual_females[\n",
    "    (df_individual_females['active_time_in_weeks'] > 0) & (df_individual_females['avg_hours_per_week'] < threshold)]\n",
    "df_individual_males = df_individual_males[\n",
    "    (df_individual_males['active_time_in_weeks'] > 0) & (df_individual_males['avg_hours_per_week'] < threshold)]\n",
    "\n",
    "print_min_and_max_active_times(df_individual_females, df_individual_males)\n",
    "\n",
    "avg_hours_per_week_female = np.array(df_individual_females['avg_hours_per_week'])\n",
    "avg_hours_per_week_male = np.array(df_individual_males['avg_hours_per_week'])\n",
    "active_time_in_weeks_female = np.array(df_individual_females['active_time_in_weeks'])\n",
    "active_time_in_weeks_male = np.array(df_individual_males['active_time_in_weeks'])\n",
    "\n",
    "# create plots\n",
    "plot_avg_washing_time(avg_hours_per_week_female, avg_hours_per_week_male, resolution)\n",
    "plot_avg_washing_time_against_total_active_time(avg_hours_per_week_female, avg_hours_per_week_male,\n",
    "                                                active_time_in_weeks_female, active_time_in_weeks_male, resolution)\n",
    "plot_comparison_of_avg_washing_time(avg_hours_per_week_female, avg_hours_per_week_male, resolution)\n",
    "\n",
    "# permutation test on mean and std\n",
    "p_value_mean_difference = permutation_test(avg_hours_per_week_female, avg_hours_per_week_male, mean_difference)\n",
    "print(\"p-value mean difference:\", p_value_mean_difference)\n",
    "p_value_std_difference = permutation_test(avg_hours_per_week_female, avg_hours_per_week_male, std_difference)\n",
    "print(\"p-value std difference\", p_value_std_difference)\n"
   ],
   "metadata": {
    "collapsed": false,
    "pycharm": {
     "name": "#%%\n",
     "is_executing": true
    }
   }
  },
  {
   "cell_type": "code",
   "execution_count": null,
   "outputs": [],
   "source": [],
   "metadata": {
    "collapsed": false,
    "pycharm": {
     "name": "#%%\n",
     "is_executing": true
    }
   }
  }
 ],
 "metadata": {
  "kernelspec": {
   "display_name": "Python 3",
   "language": "python",
   "name": "python3"
  },
  "language_info": {
   "codemirror_mode": {
    "name": "ipython",
    "version": 2
   },
   "file_extension": ".py",
   "mimetype": "text/x-python",
   "name": "python",
   "nbconvert_exporter": "python",
   "pygments_lexer": "ipython2",
   "version": "2.7.6"
  }
 },
 "nbformat": 4,
 "nbformat_minor": 0
}